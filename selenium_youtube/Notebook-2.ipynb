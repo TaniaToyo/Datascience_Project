{
 "cells": [
  {
   "cell_type": "code",
   "execution_count": 22,
   "metadata": {},
   "outputs": [],
   "source": [
    "from selenium import webdriver\n",
    "from selenium.webdriver.common.by import By\n",
    "import pandas as pd"
   ]
  },
  {
   "cell_type": "code",
   "execution_count": 27,
   "metadata": {},
   "outputs": [],
   "source": [
    "youtube_trending_url =\"https://www.youtube.com/feed/trending\""
   ]
  },
  {
   "cell_type": "code",
   "execution_count": 50,
   "metadata": {},
   "outputs": [],
   "source": [
    "driver=webdriver.Chrome('/Users/taniatoyo/Downloads/chromedriver')"
   ]
  },
  {
   "cell_type": "code",
   "execution_count": 51,
   "metadata": {},
   "outputs": [],
   "source": [
    "driver.get(youtube_trending_url)"
   ]
  },
  {
   "cell_type": "code",
   "execution_count": 52,
   "metadata": {},
   "outputs": [
    {
     "name": "stdout",
     "output_type": "stream",
     "text": [
      "Page title Trending - YouTube\n"
     ]
    }
   ],
   "source": [
    "print('Page title',driver.title)"
   ]
  },
  {
   "cell_type": "code",
   "execution_count": 53,
   "metadata": {},
   "outputs": [
    {
     "name": "stdout",
     "output_type": "stream",
     "text": [
      "Video divs\n",
      "No of videos 100 videos\n"
     ]
    }
   ],
   "source": [
    "print(\"Video divs\")\n",
    "video_divs_tag='ytd-video-renderer'\n",
    "video_divs=driver.find_elements(By.TAG_NAME,video_divs_tag)\n",
    "print(f'No of videos {len(video_divs)} videos')"
   ]
  },
  {
   "cell_type": "code",
   "execution_count": 55,
   "metadata": {},
   "outputs": [],
   "source": [
    "# Making it modular\n",
    "def getvideos(driver):\n",
    "    \n",
    "    video_divs_tag='ytd-video-renderer'\n",
    "    video_divs=driver.find_elements(By.TAG_NAME,video_divs_tag)\n",
    "    return video_divs\n",
    "\n",
    "    "
   ]
  },
  {
   "cell_type": "code",
   "execution_count": 56,
   "metadata": {},
   "outputs": [
    {
     "name": "stdout",
     "output_type": "stream",
     "text": [
      "Getting videos\n",
      "No of videos 100 videos\n"
     ]
    }
   ],
   "source": [
    "print('Getting videos')\n",
    "videos=getvideos(driver)\n",
    "print(f'No of videos {len(videos)} videos')"
   ]
  },
  {
   "cell_type": "code",
   "execution_count": 57,
   "metadata": {},
   "outputs": [
    {
     "name": "stdout",
     "output_type": "stream",
     "text": [
      "Parsing first video\n"
     ]
    }
   ],
   "source": [
    "print(\"Parsing first video\")\n",
    "# title, video url, thumbnail url, channel,views, uploaded, description\n",
    "video=videos[0]"
   ]
  },
  {
   "cell_type": "code",
   "execution_count": 58,
   "metadata": {
    "scrolled": true
   },
   "outputs": [
    {
     "name": "stdout",
     "output_type": "stream",
     "text": [
      "\n",
      "gTitle: Boyssss Agreee??? 😂🤔💯#harishhatricks #imsubu #youtube #shorts #pongal\n",
      "\n",
      "URL: https://www.youtube.com/watch?v=5XeSs1SLce8\n",
      "\n",
      "Thumbnail Url: https://i.ytimg.com/vi/5XeSs1SLce8/hqdefault.jpg?sqp=-oaymwEcCNACELwBSFXyq4qpAw4IARUAAIhCGAFwAcABBg==&rs=AOn4CLDT4RXH4aIfvgo38e3EWOuDVZe_Jw\n",
      "\n",
      "Channel Name: Harishhatricks_official\n",
      "\n",
      "Description: \n"
     ]
    }
   ],
   "source": [
    "# Getting title\n",
    "title_tag=video.find_element(By.ID,'video-title')\n",
    "title=title_tag.text\n",
    "\n",
    "#Getting url\n",
    "url=title_tag.get_attribute('href')\n",
    "\n",
    "#Getting thumbnail url\n",
    "thumbnail_tag=video.find_element(By.TAG_NAME,'img')\n",
    "thumbnail_url=thumbnail_tag.get_attribute('src')\n",
    "\n",
    "# Getting channel name\n",
    "channel_tag=video.find_element(By.CLASS_NAME,'ytd-channel-name')\n",
    "channel_name=channel_tag.text\n",
    "\n",
    "# Gettting description\n",
    "description_tag= video.find_element(By.ID,'description-text')\n",
    "description_text=description_tag.text\n",
    "\n",
    "\n",
    "\n",
    "#Printing\n",
    "print('\\ngTitle:',title)\n",
    "print('\\nURL:',url)\n",
    "print('\\nThumbnail Url:', thumbnail_url)\n",
    "print('\\nChannel Name:', channel_name)\n",
    "\n",
    "print('\\nDescription:',description_text)\n",
    "\n",
    "\n"
   ]
  },
  {
   "cell_type": "code",
   "execution_count": 67,
   "metadata": {},
   "outputs": [],
   "source": [
    "# Modular Programing\n",
    "def parse_video(video):\n",
    "    # Getting title\n",
    "    title_tag=video.find_element(By.ID,'video-title')\n",
    "    title=title_tag.text\n",
    "\n",
    "    #Getting url\n",
    "    url=title_tag.get_attribute('href')\n",
    "\n",
    "    #Getting thumbnail url\n",
    "    thumbnail_tag=video.find_element(By.TAG_NAME,'img')\n",
    "    thumbnail_url=thumbnail_tag.get_attribute('src')\n",
    "\n",
    "    # Getting channel name\n",
    "    channel_tag=video.find_element(By.CLASS_NAME,'ytd-channel-name')\n",
    "    channel_name=channel_tag.text\n",
    "\n",
    "    # Getting views\n",
    "    views_tag=video.find_element_by_xpath('//*[@id=\"metadata-line\"]/span[1]')\n",
    "    views_no=views_tag.text\n",
    "    \n",
    "     # Getting day posted\n",
    "    day_posted_tag=video.find_element_by_xpath('//*[@id=\"metadata-line\"]/span[2]')\n",
    "    day_posted_no=day_posted_tag.text\n",
    "    \n",
    "    # Gettting description\n",
    "    description_tag= video.find_element(By.ID,'description-text')\n",
    "    description_text=description_tag.text\n",
    "\n",
    "    return {\n",
    "        'title':title,\n",
    "        'url':url,\n",
    "        'thumbnail_url':thumbnail_url,\n",
    "        'channel_name':channel_name,\n",
    "        'views' : views_no,\n",
    "        'day_posted' : day_posted_no,\n",
    "        'description':description_text\n",
    "    }"
   ]
  },
  {
   "cell_type": "code",
   "execution_count": 66,
   "metadata": {},
   "outputs": [
    {
     "name": "stdout",
     "output_type": "stream",
     "text": [
      "1 day ago\n"
     ]
    }
   ],
   "source": [
    "\n",
    "day_posted_tag=video.find_element_by_xpath('//*[@id=\"metadata-line\"]/span[2]')\n",
    "day_posted_no=day_posted_tag.text\n",
    "print(day_posted_no)"
   ]
  },
  {
   "cell_type": "code",
   "execution_count": 60,
   "metadata": {},
   "outputs": [],
   "source": [
    "videos_data=[parse_video(video) for video in videos[:10]]"
   ]
  },
  {
   "cell_type": "code",
   "execution_count": 68,
   "metadata": {},
   "outputs": [
    {
     "name": "stdout",
     "output_type": "stream",
     "text": [
      "Top 10 videos\n",
      "{'title': 'Eruma Saani | LIFE AFTER MARRIAGE', 'url': 'https://www.youtube.com/watch?v=FfE96PZ5SBE', 'thumbnail_url': 'https://i.ytimg.com/vi/FfE96PZ5SBE/hqdefault.jpg?sqp=-oaymwEcCNACELwBSFXyq4qpAw4IARUAAIhCGAFwAcABBg==&rs=AOn4CLDdRj6_z2MniEvt3AU9OqBov8h7kw', 'channel_name': 'Eruma Saani', 'views': '1.4M views', 'description': 'Download the OctaFX Copytrading App at https://bit.ly/ESaani_OctaFX and get an exclusive 50% bonus! 🎁 Start earning extra money with the official trading partner of the Delhi Capitals -...'}\n"
     ]
    }
   ],
   "source": [
    "print('Top 10 videos')\n",
    "print(videos_data[3])"
   ]
  },
  {
   "cell_type": "code",
   "execution_count": 14,
   "metadata": {},
   "outputs": [],
   "source": [
    "#print('Saving data to csv')\n",
    "#video_df=pd.DataFrame(videos_data)\n",
    "#video_df.to_csv('trending.csv')"
   ]
  }
 ],
 "metadata": {
  "kernelspec": {
   "display_name": "Python 3",
   "language": "python",
   "name": "python3"
  },
  "language_info": {
   "codemirror_mode": {
    "name": "ipython",
    "version": 3
   },
   "file_extension": ".py",
   "mimetype": "text/x-python",
   "name": "python",
   "nbconvert_exporter": "python",
   "pygments_lexer": "ipython3",
   "version": "3.8.3"
  },
  "toc": {
   "base_numbering": 1,
   "nav_menu": {},
   "number_sections": true,
   "sideBar": true,
   "skip_h1_title": false,
   "title_cell": "Table of Contents",
   "title_sidebar": "Contents",
   "toc_cell": false,
   "toc_position": {},
   "toc_section_display": true,
   "toc_window_display": false
  },
  "varInspector": {
   "cols": {
    "lenName": 16,
    "lenType": 16,
    "lenVar": 40
   },
   "kernels_config": {
    "python": {
     "delete_cmd_postfix": "",
     "delete_cmd_prefix": "del ",
     "library": "var_list.py",
     "varRefreshCmd": "print(var_dic_list())"
    },
    "r": {
     "delete_cmd_postfix": ") ",
     "delete_cmd_prefix": "rm(",
     "library": "var_list.r",
     "varRefreshCmd": "cat(var_dic_list()) "
    }
   },
   "types_to_exclude": [
    "module",
    "function",
    "builtin_function_or_method",
    "instance",
    "_Feature"
   ],
   "window_display": false
  }
 },
 "nbformat": 4,
 "nbformat_minor": 4
}

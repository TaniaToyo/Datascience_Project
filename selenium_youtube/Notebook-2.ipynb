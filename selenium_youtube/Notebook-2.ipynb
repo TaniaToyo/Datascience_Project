{
 "cells": [
  {
   "cell_type": "code",
   "execution_count": 1,
   "metadata": {},
   "outputs": [],
   "source": [
    "from selenium import webdriver\n",
    "from selenium.webdriver.common.by import By\n",
    "import pandas as pd\n",
    "import smtplib"
   ]
  },
  {
   "cell_type": "code",
   "execution_count": 2,
   "metadata": {},
   "outputs": [],
   "source": [
    "youtube_trending_url =\"https://www.youtube.com/feed/trending\""
   ]
  },
  {
   "cell_type": "code",
   "execution_count": 3,
   "metadata": {},
   "outputs": [],
   "source": [
    "driver=webdriver.Chrome('/Users/taniatoyo/Downloads/chromedriver')"
   ]
  },
  {
   "cell_type": "code",
   "execution_count": 4,
   "metadata": {},
   "outputs": [],
   "source": [
    "driver.get(youtube_trending_url)"
   ]
  },
  {
   "cell_type": "code",
   "execution_count": 5,
   "metadata": {},
   "outputs": [
    {
     "name": "stdout",
     "output_type": "stream",
     "text": [
      "Page title Trending - YouTube\n"
     ]
    }
   ],
   "source": [
    "print('Page title',driver.title)"
   ]
  },
  {
   "cell_type": "code",
   "execution_count": 6,
   "metadata": {},
   "outputs": [
    {
     "name": "stdout",
     "output_type": "stream",
     "text": [
      "Video divs\n",
      "No of videos 96 videos\n"
     ]
    }
   ],
   "source": [
    "print(\"Video divs\")\n",
    "video_divs_tag='ytd-video-renderer'\n",
    "video_divs=driver.find_elements(By.TAG_NAME,video_divs_tag)\n",
    "print(f'No of videos {len(video_divs)} videos')"
   ]
  },
  {
   "cell_type": "code",
   "execution_count": 7,
   "metadata": {},
   "outputs": [],
   "source": [
    "# Making it modular\n",
    "def getvideos(driver):\n",
    "    \n",
    "    video_divs_tag='ytd-video-renderer'\n",
    "    video_divs=driver.find_elements(By.TAG_NAME,video_divs_tag)\n",
    "    return video_divs\n",
    "\n",
    "    "
   ]
  },
  {
   "cell_type": "code",
   "execution_count": 8,
   "metadata": {},
   "outputs": [
    {
     "name": "stdout",
     "output_type": "stream",
     "text": [
      "Getting videos\n",
      "No of videos 96 videos\n"
     ]
    }
   ],
   "source": [
    "print('Getting videos')\n",
    "videos=getvideos(driver)\n",
    "print(f'No of videos {len(videos)} videos')"
   ]
  },
  {
   "cell_type": "code",
   "execution_count": 9,
   "metadata": {},
   "outputs": [
    {
     "name": "stdout",
     "output_type": "stream",
     "text": [
      "Parsing first video\n"
     ]
    }
   ],
   "source": [
    "print(\"Parsing first video\")\n",
    "# title, video url, thumbnail url, channel,views, uploaded, description\n",
    "video=videos[0]"
   ]
  },
  {
   "cell_type": "code",
   "execution_count": 10,
   "metadata": {
    "scrolled": true
   },
   "outputs": [
    {
     "name": "stdout",
     "output_type": "stream",
     "text": [
      "\n",
      "gTitle: How many of u done this 😂 #mabucrush #shorts #comedy\n",
      "\n",
      "URL: https://www.youtube.com/shorts/STqt_bBbFHc\n",
      "\n",
      "Thumbnail Url: https://i.ytimg.com/vi/STqt_bBbFHc/sd2.jpg\n",
      "\n",
      "Channel Name: Mabu Crush\n",
      "\n",
      "Description: \n"
     ]
    }
   ],
   "source": [
    "# Getting title\n",
    "title_tag=video.find_element(By.ID,'video-title')\n",
    "title=title_tag.text\n",
    "\n",
    "#Getting url\n",
    "url=title_tag.get_attribute('href')\n",
    "\n",
    "#Getting thumbnail url\n",
    "thumbnail_tag=video.find_element(By.TAG_NAME,'img')\n",
    "thumbnail_url=thumbnail_tag.get_attribute('src')\n",
    "\n",
    "# Getting channel name\n",
    "channel_tag=video.find_element(By.CLASS_NAME,'ytd-channel-name')\n",
    "channel_name=channel_tag.text\n",
    "\n",
    "# Gettting description\n",
    "description_tag= video.find_element(By.ID,'description-text')\n",
    "description_text=description_tag.text\n",
    "\n",
    "\n",
    "\n",
    "#Printing\n",
    "print('\\ngTitle:',title)\n",
    "print('\\nURL:',url)\n",
    "print('\\nThumbnail Url:', thumbnail_url)\n",
    "print('\\nChannel Name:', channel_name)\n",
    "\n",
    "print('\\nDescription:',description_text)\n",
    "\n",
    "\n"
   ]
  },
  {
   "cell_type": "code",
   "execution_count": 11,
   "metadata": {},
   "outputs": [],
   "source": [
    "# Modular Programing\n",
    "def parse_video(video):\n",
    "    # Getting title\n",
    "    title_tag=video.find_element(By.ID,'video-title')\n",
    "    title=title_tag.text\n",
    "\n",
    "    #Getting url\n",
    "    url=title_tag.get_attribute('href')\n",
    "\n",
    "    #Getting thumbnail url\n",
    "    thumbnail_tag=video.find_element(By.TAG_NAME,'img')\n",
    "    thumbnail_url=thumbnail_tag.get_attribute('src')\n",
    "\n",
    "    # Getting channel name\n",
    "    channel_tag=video.find_element(By.CLASS_NAME,'ytd-channel-name')\n",
    "    channel_name=channel_tag.text\n",
    "\n",
    "    # Getting views\n",
    "    views_tag=video.find_element_by_xpath('//*[@id=\"metadata-line\"]/span[1]')\n",
    "    views_no=views_tag.text\n",
    "    \n",
    "     # Getting day posted\n",
    "    day_posted_tag=video.find_element_by_xpath('//*[@id=\"metadata-line\"]/span[2]')\n",
    "    day_posted_no=day_posted_tag.text\n",
    "    \n",
    "    # Gettting description\n",
    "    description_tag= video.find_element(By.ID,'description-text')\n",
    "    description_text=description_tag.text\n",
    "\n",
    "    return {\n",
    "        'title':title,\n",
    "        'url':url,\n",
    "        'thumbnail_url':thumbnail_url,\n",
    "        'channel_name':channel_name,\n",
    "        'views' : views_no,\n",
    "        'day_posted' : day_posted_no,\n",
    "        'description':description_text\n",
    "    }"
   ]
  },
  {
   "cell_type": "code",
   "execution_count": 12,
   "metadata": {},
   "outputs": [
    {
     "name": "stdout",
     "output_type": "stream",
     "text": [
      "22 hours ago\n"
     ]
    }
   ],
   "source": [
    "\n",
    "day_posted_tag=video.find_element_by_xpath('//*[@id=\"metadata-line\"]/span[2]')\n",
    "day_posted_no=day_posted_tag.text\n",
    "print(day_posted_no)"
   ]
  },
  {
   "cell_type": "code",
   "execution_count": 13,
   "metadata": {},
   "outputs": [],
   "source": [
    "videos_data=[parse_video(video) for video in videos[:10]]"
   ]
  },
  {
   "cell_type": "code",
   "execution_count": 14,
   "metadata": {},
   "outputs": [
    {
     "name": "stdout",
     "output_type": "stream",
     "text": [
      "Top 10 videos\n",
      "{'title': 'Oo Solriya..Oo Oo Solriya (Tamil) Lyrical |Pushpa Songs |Allu Arjun, Rashmika |DSP |Sukumar | Andrea', 'url': 'https://www.youtube.com/watch?v=3Tnf9AxEtnc', 'thumbnail_url': 'https://i.ytimg.com/vi/3Tnf9AxEtnc/hqdefault.jpg?sqp=-oaymwEcCNACELwBSFXyq4qpAw4IARUAAIhCGAFwAcABBg==&rs=AOn4CLBuSn2pemLLiqIRs5UVNUkkIFqlQQ', 'channel_name': 'Aditya Music', 'views': '2.2M views', 'day_posted': '22 hours ago', 'description': 'Watch & Enjoy #OoSolriyaOoOoSolriya Lyrical Song From #Pushpa Movie. Song Name : Oo Solriya..Oo Oo Solriya Singer : Andrea Jeremiah Lyrics : Viveka Music : Devi Sri Prasad Keyboards: Vikas...'}\n"
     ]
    }
   ],
   "source": [
    "print('Top 10 videos')\n",
    "print(videos_data[3])"
   ]
  },
  {
   "cell_type": "code",
   "execution_count": 15,
   "metadata": {},
   "outputs": [],
   "source": [
    "#print('Saving data to csv')\n",
    "#video_df=pd.DataFrame(videos_data)\n",
    "#video_df.to_csv('trending.csv')"
   ]
  },
  {
   "cell_type": "code",
   "execution_count": 20,
   "metadata": {},
   "outputs": [],
   "source": [
    "body=json.dumps(videos_data,indent=2)"
   ]
  },
  {
   "cell_type": "code",
   "execution_count": 22,
   "metadata": {},
   "outputs": [],
   "source": [
    "def send_email(body):\n",
    "    \n",
    "    try:\n",
    "        sender_email='testthecode123@gmail.com'\n",
    "        receiver_email='testthecode123@gmail.com'\n",
    "        password='Taniatoyo21032001'\n",
    "        server = smtplib.SMTP('smtp.gmail.com', 587)\n",
    "        server.ehlo()\n",
    "        server.starttls()\n",
    "        sent_from = sender_email\n",
    "        to = [receiver_email]\n",
    "        subject = 'Youtube trending videos'\n",
    "\n",
    "        email_text = f\"\"\"\\\n",
    "        From: {sender_email}\n",
    "        To: {receiver_email}\n",
    "        Subject: {subject}\n",
    "\n",
    "        {body}\n",
    "        \"\"\"\n",
    "        server.login(sender_email,password)\n",
    "        server.sendmail(sender_email,receiver_email, email_text)\n",
    "        server.close()\n",
    "    except:\n",
    "        print ('Something went wrong...')"
   ]
  },
  {
   "cell_type": "code",
   "execution_count": 23,
   "metadata": {},
   "outputs": [
    {
     "name": "stdout",
     "output_type": "stream",
     "text": [
      "Send email\n"
     ]
    }
   ],
   "source": [
    "print(\"Send email\")\n",
    "send_email(body)"
   ]
  }
 ],
 "metadata": {
  "kernelspec": {
   "display_name": "Python 3",
   "language": "python",
   "name": "python3"
  },
  "language_info": {
   "codemirror_mode": {
    "name": "ipython",
    "version": 3
   },
   "file_extension": ".py",
   "mimetype": "text/x-python",
   "name": "python",
   "nbconvert_exporter": "python",
   "pygments_lexer": "ipython3",
   "version": "3.8.3"
  },
  "toc": {
   "base_numbering": 1,
   "nav_menu": {},
   "number_sections": true,
   "sideBar": true,
   "skip_h1_title": false,
   "title_cell": "Table of Contents",
   "title_sidebar": "Contents",
   "toc_cell": false,
   "toc_position": {},
   "toc_section_display": true,
   "toc_window_display": false
  },
  "varInspector": {
   "cols": {
    "lenName": 16,
    "lenType": 16,
    "lenVar": 40
   },
   "kernels_config": {
    "python": {
     "delete_cmd_postfix": "",
     "delete_cmd_prefix": "del ",
     "library": "var_list.py",
     "varRefreshCmd": "print(var_dic_list())"
    },
    "r": {
     "delete_cmd_postfix": ") ",
     "delete_cmd_prefix": "rm(",
     "library": "var_list.r",
     "varRefreshCmd": "cat(var_dic_list()) "
    }
   },
   "types_to_exclude": [
    "module",
    "function",
    "builtin_function_or_method",
    "instance",
    "_Feature"
   ],
   "window_display": false
  }
 },
 "nbformat": 4,
 "nbformat_minor": 4
}

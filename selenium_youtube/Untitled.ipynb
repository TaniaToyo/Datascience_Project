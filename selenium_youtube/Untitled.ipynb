{
 "cells": [
  {
   "cell_type": "code",
   "execution_count": 43,
   "metadata": {},
   "outputs": [],
   "source": [
    "from selenium import webdriver\n",
    "from selenium.webdriver.common.by import By"
   ]
  },
  {
   "cell_type": "code",
   "execution_count": 3,
   "metadata": {},
   "outputs": [],
   "source": [
    "youtube_trending_url =\"https://www.youtube.com/feed/trending\""
   ]
  },
  {
   "cell_type": "code",
   "execution_count": 15,
   "metadata": {},
   "outputs": [],
   "source": [
    "driver=webdriver.Chrome('/Users/taniatoyo/Downloads/chromedriver')"
   ]
  },
  {
   "cell_type": "code",
   "execution_count": 16,
   "metadata": {},
   "outputs": [],
   "source": [
    "driver.get(youtube_trending_url)"
   ]
  },
  {
   "cell_type": "code",
   "execution_count": 56,
   "metadata": {},
   "outputs": [
    {
     "name": "stdout",
     "output_type": "stream",
     "text": [
      "Page title Trending - YouTube\n"
     ]
    }
   ],
   "source": [
    "print('Page title',driver.title)"
   ]
  },
  {
   "cell_type": "code",
   "execution_count": 63,
   "metadata": {},
   "outputs": [
    {
     "name": "stdout",
     "output_type": "stream",
     "text": [
      "Video divs\n",
      "No of videos 99 videos\n"
     ]
    }
   ],
   "source": [
    "print(\"Video divs\")\n",
    "video_divs_tag='ytd-video-renderer'\n",
    "video_divs=driver.find_elements(By.TAG_NAME,video_divs_tag)\n",
    "print(f'No of videos {len(video_divs)} videos')"
   ]
  },
  {
   "cell_type": "code",
   "execution_count": 64,
   "metadata": {},
   "outputs": [],
   "source": [
    "# Making it modular\n",
    "def getvideos(driver):\n",
    "    driver.get(youtube_trending_url)\n",
    "    video_divs_tag='ytd-video-renderer'\n",
    "    video_divs=driver.find_elements(By.TAG_NAME,video_divs_tag)\n",
    "    return video_divs\n",
    "\n",
    "    "
   ]
  },
  {
   "cell_type": "code",
   "execution_count": 66,
   "metadata": {},
   "outputs": [
    {
     "name": "stdout",
     "output_type": "stream",
     "text": [
      "Getting videos\n",
      "No of videos 99 videos\n"
     ]
    }
   ],
   "source": [
    "print('Getting videos')\n",
    "videos=getvideos(driver)\n",
    "print(f'No of videos {len(videos)} videos')"
   ]
  },
  {
   "cell_type": "code",
   "execution_count": 67,
   "metadata": {},
   "outputs": [
    {
     "name": "stdout",
     "output_type": "stream",
     "text": [
      "Parsing first video\n"
     ]
    }
   ],
   "source": [
    "print(\"Parsing first video\")\n",
    "# title, video url, thumbnail url, channel,views, uploaded, description\n",
    "video=videos[0]"
   ]
  },
  {
   "cell_type": "code",
   "execution_count": 92,
   "metadata": {
    "scrolled": true
   },
   "outputs": [
    {
     "ename": "TypeError",
     "evalue": "'str' object is not callable",
     "output_type": "error",
     "traceback": [
      "\u001b[0;31m---------------------------------------------------------------------------\u001b[0m",
      "\u001b[0;31mTypeError\u001b[0m                                 Traceback (most recent call last)",
      "\u001b[0;32m<ipython-input-92-2f097fe75de9>\u001b[0m in \u001b[0;36m<module>\u001b[0;34m\u001b[0m\n\u001b[1;32m     15\u001b[0m \u001b[0;34m\u001b[0m\u001b[0m\n\u001b[1;32m     16\u001b[0m \u001b[0;31m# Getting views\u001b[0m\u001b[0;34m\u001b[0m\u001b[0;34m\u001b[0m\u001b[0;34m\u001b[0m\u001b[0m\n\u001b[0;32m---> 17\u001b[0;31m \u001b[0mview_tag\u001b[0m\u001b[0;34m=\u001b[0m\u001b[0mvideo\u001b[0m\u001b[0;34m.\u001b[0m\u001b[0mfind_element\u001b[0m\u001b[0;34m(\u001b[0m\u001b[0mBy\u001b[0m\u001b[0;34m.\u001b[0m\u001b[0mXPATH\u001b[0m\u001b[0;34m(\u001b[0m\u001b[0;34m\"//div[@class='ytd-channel-name']/span[@class='ytd-video-meta-block']\"\u001b[0m\u001b[0;34m)\u001b[0m\u001b[0;34m)\u001b[0m\u001b[0;34m;\u001b[0m\u001b[0;34m\u001b[0m\u001b[0;34m\u001b[0m\u001b[0m\n\u001b[0m\u001b[1;32m     18\u001b[0m \u001b[0mview_no\u001b[0m\u001b[0;34m=\u001b[0m\u001b[0mview_tag\u001b[0m\u001b[0;34m.\u001b[0m\u001b[0mtext\u001b[0m\u001b[0;34m\u001b[0m\u001b[0;34m\u001b[0m\u001b[0m\n\u001b[1;32m     19\u001b[0m \u001b[0;34m\u001b[0m\u001b[0m\n",
      "\u001b[0;31mTypeError\u001b[0m: 'str' object is not callable"
     ]
    }
   ],
   "source": [
    "# Getting title\n",
    "title_tag=video.find_element(By.ID,'video-title')\n",
    "title=title_tag.text\n",
    "\n",
    "#Getting url\n",
    "url=title_tag.get_attribute('href')\n",
    "\n",
    "#Getting thumbnail url\n",
    "thumbnail_tag=video.find_element(By.TAG_NAME,'img')\n",
    "thumbnail_url=thumbnail_tag.get_attribute('src')\n",
    "\n",
    "# Getting channel name\n",
    "channel_tag=video.find_element(By.CLASS_NAME,'ytd-channel-name')\n",
    "channel_name=channel_tag.text\n",
    "\n",
    "# Getting views\n",
    "view_tag=video.find_element(By.XPATH(\"//div[@class='ytd-channel-name']/span[@class='ytd-video-meta-block']\"));\n",
    "view_no=view_tag.text\n",
    "\n",
    "\n",
    "#Printing\n",
    "print('Title:',title)\n",
    "print('URL:',url)\n",
    "print('Thumbnail Url:', thumbnail_url)\n",
    "print('Channel Name:', channel_name)\n",
    "print('Views no', view_no)"
   ]
  },
  {
   "cell_type": "code",
   "execution_count": null,
   "metadata": {},
   "outputs": [],
   "source": [
    "video_url=title"
   ]
  }
 ],
 "metadata": {
  "kernelspec": {
   "display_name": "Python 3",
   "language": "python",
   "name": "python3"
  },
  "language_info": {
   "codemirror_mode": {
    "name": "ipython",
    "version": 3
   },
   "file_extension": ".py",
   "mimetype": "text/x-python",
   "name": "python",
   "nbconvert_exporter": "python",
   "pygments_lexer": "ipython3",
   "version": "3.8.3"
  },
  "toc": {
   "base_numbering": 1,
   "nav_menu": {},
   "number_sections": true,
   "sideBar": true,
   "skip_h1_title": false,
   "title_cell": "Table of Contents",
   "title_sidebar": "Contents",
   "toc_cell": false,
   "toc_position": {},
   "toc_section_display": true,
   "toc_window_display": false
  },
  "varInspector": {
   "cols": {
    "lenName": 16,
    "lenType": 16,
    "lenVar": 40
   },
   "kernels_config": {
    "python": {
     "delete_cmd_postfix": "",
     "delete_cmd_prefix": "del ",
     "library": "var_list.py",
     "varRefreshCmd": "print(var_dic_list())"
    },
    "r": {
     "delete_cmd_postfix": ") ",
     "delete_cmd_prefix": "rm(",
     "library": "var_list.r",
     "varRefreshCmd": "cat(var_dic_list()) "
    }
   },
   "types_to_exclude": [
    "module",
    "function",
    "builtin_function_or_method",
    "instance",
    "_Feature"
   ],
   "window_display": false
  }
 },
 "nbformat": 4,
 "nbformat_minor": 4
}
